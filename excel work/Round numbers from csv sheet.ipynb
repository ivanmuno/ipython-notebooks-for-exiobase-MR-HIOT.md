{
 "cells": [
  {
   "cell_type": "markdown",
   "metadata": {
    "deletable": true,
    "editable": true
   },
   "source": [
    "## Round numbers from csv sheet"
   ]
  },
  {
   "cell_type": "code",
   "execution_count": 1,
   "metadata": {
    "collapsed": false,
    "deletable": true,
    "editable": true
   },
   "outputs": [
    {
     "name": "stdout",
     "output_type": "stream",
     "text": [
      "/Users/marie/Desktop/v3313b1\n"
     ]
    }
   ],
   "source": [
    "cd /Users/marie/Desktop/v3313b1"
   ]
  },
  {
   "cell_type": "markdown",
   "metadata": {
    "deletable": true,
    "editable": true
   },
   "source": [
    "## BLCI"
   ]
  },
  {
   "cell_type": "code",
   "execution_count": 2,
   "metadata": {
    "collapsed": false,
    "deletable": true,
    "editable": true
   },
   "outputs": [],
   "source": [
    "import csv\n",
    "import numpy as np\n",
    "with open(\"BLCI.csv\",'r') as dest_f:\n",
    "    data_iter = csv.reader(dest_f, \n",
    "                           delimiter = ',', \n",
    "                           quotechar = '\"')\n",
    "    data = [data for data in data_iter]\n",
    "BLCI = np.array(list(data)).astype('float')"
   ]
  },
  {
   "cell_type": "code",
   "execution_count": 5,
   "metadata": {
    "collapsed": true
   },
   "outputs": [],
   "source": [
    "import to_precision"
   ]
  },
  {
   "cell_type": "code",
   "execution_count": 16,
   "metadata": {
    "collapsed": false,
    "deletable": true,
    "editable": true
   },
   "outputs": [],
   "source": [
    "#The following constant was computed in maxima 5.35.1 using 64 bigfloat digits of precision\n",
    "import decimal as decim\n",
    "decim.getcontext().prec = 64\n",
    "# __logBase10of2 = 3.010299956639811952137388947244930267681898814621085413104274611e-1\n",
    "__logBase10of2_decim = decim.Decimal(2).log10()\n",
    "__logBase10of2 = float(__logBase10of2_decim)\n",
    "\n",
    "\n",
    "import numpy as np\n",
    "__logBase10ofe = 1.0 / np.log(10.0)\n",
    "\n",
    "def RoundToSigFigs( x, sigfigs ):\n",
    "    \"\"\"\n",
    "    Rounds the value(s) in x to the number of significant figures in sigfigs.\n",
    "    Return value has the same type as x.\n",
    "    Restrictions:\n",
    "    sigfigs must be an integer type and store a positive value.\n",
    "    x must be a real value or an array like object containing only real values.\n",
    "    \"\"\"\n",
    "    if not ( type(sigfigs) is int or type(sigfigs) is long or\n",
    "             isinstance(sigfigs, np.integer) ):\n",
    "        raise TypeError( \"RoundToSigFigs: sigfigs must be an integer.\" )\n",
    "\n",
    "    if sigfigs <= 0:\n",
    "        raise ValueError( \"RoundtoSigFigs: sigfigs must be positive.\" )\n",
    "    \n",
    "    if not np.all(np.isreal( x )):\n",
    "        raise TypeError( \"RoundToSigFigs: all x must be real.\" )\n",
    "\n",
    "    matrixflag = False\n",
    "    if isinstance(x, np.matrix): #Convert matrices to arrays\n",
    "        matrixflag = True\n",
    "        x = np.asarray(x)\n",
    "    \n",
    "    xsgn = np.sign(x)\n",
    "    absx = xsgn * x\n",
    "    mantissas, binaryExponents = np.frexp( absx )\n",
    "    \n",
    "    decimalExponents = __logBase10of2 * binaryExponents\n",
    "    omags = np.floor(decimalExponents)\n",
    "\n",
    "    mantissas *= 10.0**(decimalExponents - omags)\n",
    "    \n",
    "    if type(mantissas) is float or isinstance(mantissas, np.floating):\n",
    "        if mantissas < 1.0:\n",
    "            mantissas *= 10.0\n",
    "            omags -= 1.0\n",
    "            \n",
    "    else: #elif np.all(np.isreal( mantissas )):\n",
    "        fixmsk = mantissas < 1.0\n",
    "        mantissas[fixmsk] *= 10.0\n",
    "        omags[fixmsk] -= 1.0\n",
    "\n",
    "    result = xsgn * np.around( mantissas, decimals=sigfigs - 1 ) * 10.0**omags\n",
    "    if matrixflag:\n",
    "        result = np.matrix(result, copy=False)\n",
    "    \n",
    "    return result"
   ]
  },
  {
   "cell_type": "code",
   "execution_count": 8,
   "metadata": {
    "collapsed": false,
    "deletable": true,
    "editable": true
   },
   "outputs": [],
   "source": [
    "BLCI_rounded = RoundToSigFigs(BLCI,7)"
   ]
  },
  {
   "cell_type": "code",
   "execution_count": 9,
   "metadata": {
    "collapsed": true,
    "deletable": true,
    "editable": true
   },
   "outputs": [],
   "source": [
    "from io import StringIO\n",
    "import numpy as np\n",
    "s=StringIO()\n",
    "np.savetxt('BLCI_rounded.csv', BLCI_rounded, fmt='%.10f', delimiter=',', newline=\"\\n\")"
   ]
  },
  {
   "cell_type": "markdown",
   "metadata": {
    "collapsed": true,
    "deletable": true,
    "editable": true
   },
   "source": [
    "## F2"
   ]
  },
  {
   "cell_type": "code",
   "execution_count": 6,
   "metadata": {
    "collapsed": true,
    "deletable": true,
    "editable": true
   },
   "outputs": [],
   "source": [
    "import csv\n",
    "import numpy as np\n",
    "with open(\"F2.csv\",'r') as dest_f:\n",
    "    data_iter = csv.reader(dest_f, \n",
    "                           delimiter = ',', \n",
    "                           quotechar = '\"')\n",
    "    data = [data for data in data_iter]\n",
    "F2 = np.array(list(data)).astype('float')"
   ]
  },
  {
   "cell_type": "code",
   "execution_count": 7,
   "metadata": {
    "collapsed": true,
    "deletable": true,
    "editable": true
   },
   "outputs": [],
   "source": [
    "F2_rounded = RoundToSigFigs(F2,7)"
   ]
  },
  {
   "cell_type": "code",
   "execution_count": 8,
   "metadata": {
    "collapsed": true,
    "deletable": true,
    "editable": true
   },
   "outputs": [],
   "source": [
    "from io import StringIO\n",
    "import numpy as np\n",
    "s=StringIO()\n",
    "np.savetxt('F2_rounded.csv', F2_rounded, fmt='%.10f', delimiter=',', newline=\"\\n\")"
   ]
  },
  {
   "cell_type": "markdown",
   "metadata": {
    "collapsed": true,
    "deletable": true,
    "editable": true
   },
   "source": [
    "## FD"
   ]
  },
  {
   "cell_type": "code",
   "execution_count": 9,
   "metadata": {
    "collapsed": true,
    "deletable": true,
    "editable": true
   },
   "outputs": [],
   "source": [
    "import csv\n",
    "import numpy as np\n",
    "with open(\"FD.csv\",'r') as dest_f:\n",
    "    data_iter = csv.reader(dest_f, \n",
    "                           delimiter = ',', \n",
    "                           quotechar = '\"')\n",
    "    data = [data for data in data_iter]\n",
    "FD = np.array(list(data)).astype('float')\n",
    "\n",
    "FD_rounded = RoundToSigFigs(FD,7)\n",
    "\n",
    "from io import StringIO\n",
    "s=StringIO()\n",
    "np.savetxt('FD_rounded.csv', FD_rounded, fmt='%.10f', delimiter=',', newline=\"\\n\")"
   ]
  },
  {
   "cell_type": "markdown",
   "metadata": {
    "deletable": true,
    "editable": true
   },
   "source": [
    "## FD_ext"
   ]
  },
  {
   "cell_type": "code",
   "execution_count": 10,
   "metadata": {
    "collapsed": true,
    "deletable": true,
    "editable": true
   },
   "outputs": [],
   "source": [
    "import csv\n",
    "import numpy as np\n",
    "with open(\"FD_ext.csv\",'r') as dest_f:\n",
    "    data_iter = csv.reader(dest_f, \n",
    "                           delimiter = ',', \n",
    "                           quotechar = '\"')\n",
    "    data = [data for data in data_iter]\n",
    "FD_ext = np.array(list(data)).astype('float')\n",
    "\n",
    "FD_ext_rounded = RoundToSigFigs(FD_ext,7)\n",
    "\n",
    "from io import StringIO\n",
    "s=StringIO()\n",
    "np.savetxt('FD_ext_rounded.csv', FD_ext_rounded, fmt='%.10f', delimiter=',', newline=\"\\n\")"
   ]
  },
  {
   "cell_type": "markdown",
   "metadata": {
    "deletable": true,
    "editable": true
   },
   "source": [
    "## Norm1"
   ]
  },
  {
   "cell_type": "code",
   "execution_count": 11,
   "metadata": {
    "collapsed": true,
    "deletable": true,
    "editable": true
   },
   "outputs": [],
   "source": [
    "import csv\n",
    "import numpy as np\n",
    "with open(\"norm1.csv\",'r') as dest_f:\n",
    "    data_iter = csv.reader(dest_f, \n",
    "                           delimiter = ',', \n",
    "                           quotechar = '\"')\n",
    "    data = [data for data in data_iter]\n",
    "norm1 = np.array(list(data)).astype('float')\n",
    "\n",
    "norm1_rounded = RoundToSigFigs(norm1,7)\n",
    "\n",
    "from io import StringIO\n",
    "s=StringIO()\n",
    "np.savetxt('norm1_rounded.csv', norm1_rounded, fmt='%.10f', delimiter=',', newline=\"\\n\")"
   ]
  },
  {
   "cell_type": "markdown",
   "metadata": {
    "deletable": true,
    "editable": true
   },
   "source": [
    "## Zn_tonorm"
   ]
  },
  {
   "cell_type": "code",
   "execution_count": 12,
   "metadata": {
    "collapsed": true,
    "deletable": true,
    "editable": true
   },
   "outputs": [],
   "source": [
    "import csv\n",
    "import numpy as np\n",
    "with open(\"Zn_tonorm.csv\",'r') as dest_f:\n",
    "    data_iter = csv.reader(dest_f, \n",
    "                           delimiter = ',', \n",
    "                           quotechar = '\"')\n",
    "    data = [data for data in data_iter]\n",
    "Zn_tonorm = np.array(list(data)).astype('float')\n",
    "\n",
    "Zn_tonorm_rounded = RoundToSigFigs(Zn_tonorm,7)\n",
    "\n",
    "from io import StringIO\n",
    "s=StringIO()\n",
    "np.savetxt('Zn_tonorm_rounded.csv', Zn_tonorm_rounded, fmt='%.10f', delimiter=',', newline=\"\\n\")"
   ]
  },
  {
   "cell_type": "markdown",
   "metadata": {
    "deletable": true,
    "editable": true
   },
   "source": [
    "## Bn_tonorm"
   ]
  },
  {
   "cell_type": "code",
   "execution_count": 17,
   "metadata": {
    "collapsed": false,
    "deletable": true,
    "editable": true
   },
   "outputs": [],
   "source": [
    "import csv\n",
    "import numpy as np\n",
    "with open(\"Bn_tonorm.csv\",'r') as dest_f:\n",
    "    data_iter = csv.reader(dest_f, \n",
    "                           delimiter = ',', \n",
    "                           quotechar = '\"')\n",
    "    data = [data for data in data_iter]\n",
    "Bn_tonorm = np.array(list(data)).astype('float')\n",
    "\n",
    "Bn_tonorm_rounded = RoundToSigFigs(Bn_tonorm,7)\n",
    "\n",
    "from io import StringIO\n",
    "s=StringIO()\n",
    "np.savetxt('Bn_tonorm_rounded.csv', Bn_tonorm_rounded, fmt='%.10f', delimiter=',', newline=\"\\n\")"
   ]
  },
  {
   "cell_type": "code",
   "execution_count": null,
   "metadata": {
    "collapsed": true,
    "deletable": true,
    "editable": true
   },
   "outputs": [],
   "source": []
  }
 ],
 "metadata": {
  "kernelspec": {
   "display_name": "Python 3",
   "language": "python",
   "name": "python3"
  },
  "language_info": {
   "codemirror_mode": {
    "name": "ipython",
    "version": 3
   },
   "file_extension": ".py",
   "mimetype": "text/x-python",
   "name": "python",
   "nbconvert_exporter": "python",
   "pygments_lexer": "ipython3",
   "version": "3.6.0"
  }
 },
 "nbformat": 4,
 "nbformat_minor": 0
}
