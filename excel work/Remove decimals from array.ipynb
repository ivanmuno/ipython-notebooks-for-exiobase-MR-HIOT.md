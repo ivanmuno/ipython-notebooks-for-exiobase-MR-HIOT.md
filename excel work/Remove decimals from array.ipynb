{
 "cells": [
  {
   "cell_type": "markdown",
   "metadata": {},
   "source": [
    "## Round and remove decimals from csv sheet"
   ]
  },
  {
   "cell_type": "code",
   "execution_count": 1,
   "metadata": {
    "collapsed": false
   },
   "outputs": [
    {
     "name": "stdout",
     "output_type": "stream",
     "text": [
      "/Users/marie/Desktop\n"
     ]
    }
   ],
   "source": [
    "cd /Users/marie/Desktop"
   ]
  },
  {
   "cell_type": "code",
   "execution_count": 11,
   "metadata": {
    "collapsed": false
   },
   "outputs": [],
   "source": [
    "### optional\n",
    "import pandas as pd\n",
    "import csv\n",
    "\n",
    "data_xls = pd.read_excel('BLCI.xlsx', 'Sheet1', index_col=None)\n",
    "data_xls.to_csv('BLCI_non_rounded.csv', encoding='utf-8')"
   ]
  },
  {
   "cell_type": "code",
   "execution_count": 8,
   "metadata": {
    "collapsed": false
   },
   "outputs": [],
   "source": [
    "import pandas as pd\n",
    "import csv\n",
    "\n",
    "outfile1 =\"/Users/marie/Desktop/BLCI_e.csv\"\n",
    "source = pd.read_csv('BLCI.csv', index_col = None, header = None, low_memory = False)\n",
    "\n",
    "Zn_tonorm = source.iloc[0:1, 0:7872]\n",
    "Zn_tonorm.to_csv(outfile1, header = None)"
   ]
  },
  {
   "cell_type": "code",
   "execution_count": 12,
   "metadata": {
    "collapsed": false
   },
   "outputs": [],
   "source": [
    "import csv\n",
    "import numpy as np\n",
    "with open(\"BLCI_e.csv\",'r') as dest_f:\n",
    "    data_iter = csv.reader(dest_f, \n",
    "                           delimiter = ',', \n",
    "                           quotechar = '\"')\n",
    "    data = [data for data in data_iter]\n",
    "BLCI = np.array(list(data)).astype('float')\n",
    "BLCI_wo_dec = np.array(BLCI).astype('int')"
   ]
  },
  {
   "cell_type": "code",
   "execution_count": 31,
   "metadata": {
    "collapsed": true
   },
   "outputs": [],
   "source": []
  },
  {
   "cell_type": "code",
   "execution_count": 13,
   "metadata": {
    "collapsed": true
   },
   "outputs": [],
   "source": [
    "from io import StringIO\n",
    "import numpy as np\n",
    "s=StringIO()\n",
    "np.savetxt('BLCI_wo_dec.csv', BLCI_wo_dec, fmt='%.10f', delimiter=',', newline=\"\\n\")"
   ]
  },
  {
   "cell_type": "code",
   "execution_count": null,
   "metadata": {
    "collapsed": true
   },
   "outputs": [],
   "source": []
  }
 ],
 "metadata": {
  "kernelspec": {
   "display_name": "Python 3",
   "language": "python",
   "name": "python3"
  },
  "language_info": {
   "codemirror_mode": {
    "name": "ipython",
    "version": 3
   },
   "file_extension": ".py",
   "mimetype": "text/x-python",
   "name": "python",
   "nbconvert_exporter": "python",
   "pygments_lexer": "ipython3",
   "version": "3.4.3"
  }
 },
 "nbformat": 4,
 "nbformat_minor": 0
}
