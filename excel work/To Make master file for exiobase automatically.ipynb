{
 "cells": [
  {
   "cell_type": "markdown",
   "metadata": {
    "deletable": true,
    "editable": true
   },
   "source": [
    "## To modify Stefano's input into 1 required table (including iLUC)\n",
    "\n",
    "from MR_HUSE.csv and iLUC.xlsx"
   ]
  },
  {
   "cell_type": "markdown",
   "metadata": {
    "deletable": true,
    "editable": true
   },
   "source": [
    "## 1. Steps to build the Ready-for-CSV terminated file automatically:\n",
    "1. Extract first 4 columns from \"naming.xlsx\", tab \"terminated-xl\"\n",
    "2. Extract first 7 rows from \"naming.xlsx\", tab \"terminated-xl\"\n",
    "3. Round BLCI numbers\n",
    "4. Remove zeros from BLCI_rounded\n",
    "5. Concatenate frame1, frame2, BLCI_rounded_without_zeros\n",
    "6. Export to excel \"terminated-v3310b2.xlsx\""
   ]
  },
  {
   "cell_type": "code",
   "execution_count": 2,
   "metadata": {
    "collapsed": false,
    "deletable": true,
    "editable": true
   },
   "outputs": [
    {
     "name": "stdout",
     "output_type": "stream",
     "text": [
      "/Users/marie/Desktop\n"
     ]
    }
   ],
   "source": [
    "cd /Users/marie/Desktop"
   ]
  },
  {
   "cell_type": "code",
   "execution_count": 189,
   "metadata": {
    "collapsed": false,
    "deletable": true,
    "editable": true
   },
   "outputs": [],
   "source": [
    "import pandas as pd\n",
    "BLCI_rounded = pd.read_csv(\"BLCI_rounded.csv\", header = None)\n",
    "F2_rounded = pd.read_csv(\"F2_rounded.csv\", header = None)"
   ]
  },
  {
   "cell_type": "code",
   "execution_count": 195,
   "metadata": {
    "collapsed": false,
    "deletable": true,
    "editable": true
   },
   "outputs": [
    {
     "data": {
      "text/plain": [
       "array([   0,    1,    2, ..., 8157, 8158, 8159])"
      ]
     },
     "execution_count": 195,
     "metadata": {},
     "output_type": "execute_result"
    }
   ],
   "source": [
    "terminated_values = pd.concat([BLCI_rounded, F2_rounded], axis = 1)\n",
    "terminated_values = terminated_values.reset_index(drop = True)\n",
    "terminated_values.columns = [i for i in range(terminated_values.shape[1])]\n",
    "terminated_values.columns.values"
   ]
  },
  {
   "cell_type": "code",
   "execution_count": 194,
   "metadata": {
    "collapsed": false,
    "deletable": true,
    "editable": true
   },
   "outputs": [
    {
     "data": {
      "text/plain": [
       "array([   0,    1,    2, ..., 8157, 8158, 8159])"
      ]
     },
     "execution_count": 194,
     "metadata": {},
     "output_type": "execute_result"
    }
   ],
   "source": [
    "import pandas as pd\n",
    "import csv\n",
    "data_xls = pd.read_excel('naming.xlsx', 'terminated-xl', index_col=None, header = None, encoding='utf-8')\n",
    "column_headings = data_xls.iloc[0:7, 4:8165]\n",
    "column_headings = column_headings.reset_index(drop = True)\n",
    "column_headings.columns = [i for i in range(column_headings.shape[1])]\n",
    "column_headings.columns.values"
   ]
  },
  {
   "cell_type": "code",
   "execution_count": 197,
   "metadata": {
    "collapsed": false,
    "deletable": true,
    "editable": true
   },
   "outputs": [
    {
     "data": {
      "text/plain": [
       "array([0, 1, 2, 3, 4, 5, 6])"
      ]
     },
     "execution_count": 197,
     "metadata": {},
     "output_type": "execute_result"
    }
   ],
   "source": [
    "column_headings.index.values"
   ]
  },
  {
   "cell_type": "code",
   "execution_count": 196,
   "metadata": {
    "collapsed": false,
    "deletable": true,
    "editable": true
   },
   "outputs": [],
   "source": [
    "terminated = pd.concat([column_headings, terminated_values])\n",
    "outfile =\"/Users/marie/Desktop/column_headings.csv\"\n",
    "terminated.to_csv(outfile, header = False, index = False)"
   ]
  },
  {
   "cell_type": "code",
   "execution_count": 202,
   "metadata": {
    "collapsed": false,
    "deletable": true,
    "editable": true
   },
   "outputs": [
    {
     "data": {
      "text/plain": [
       "array([  0,   1,   2,   3,   4,   5,   6,   7,   8,   9,  10,  11,  12,\n",
       "        13,  14,  15,  16,  17,  18,  19,  20,  21,  22,  23,  24,  25,\n",
       "        26,  27,  28,  29,  30,  31,  32,  33,  34,  35,  36,  37,  38,\n",
       "        39,  40,  41,  42,  43,  44,  45,  46,  47,  48,  49,  50,  51,\n",
       "        52,  53,  54,  55,  56,  57,  58,  59,  60,  61,  62,  63,  64,\n",
       "        65,  66,  67,  68,  69,  70,  71,  72,  73,  74,  75,  76,  77,\n",
       "        78,  79,  80,  81,  82,  83,  84,  85,  86,  87,  88,  89,  90,\n",
       "        91,  92,  93,  94,  95,  96,  97,  98,  99, 100, 101, 102, 103,\n",
       "       104, 105, 106, 107, 108, 109, 110, 111, 112, 113, 114, 115, 116,\n",
       "       117, 118, 119, 120, 121, 122, 123, 124, 125, 126, 127, 128, 129,\n",
       "       130, 131, 132, 133, 134, 135, 136, 137, 138, 139, 140, 141, 142, 143])"
      ]
     },
     "execution_count": 202,
     "metadata": {},
     "output_type": "execute_result"
    }
   ],
   "source": [
    "terminated = terminated.reset_index(drop = True)\n",
    "terminated.index.values"
   ]
  },
  {
   "cell_type": "code",
   "execution_count": 204,
   "metadata": {
    "collapsed": false,
    "deletable": true,
    "editable": true
   },
   "outputs": [
    {
     "data": {
      "text/plain": [
       "array([  0,   1,   2,   3,   4,   5,   6,   7,   8,   9,  10,  11,  12,\n",
       "        13,  14,  15,  16,  17,  18,  19,  20,  21,  22,  23,  24,  25,\n",
       "        26,  27,  28,  29,  30,  31,  32,  33,  34,  35,  36,  37,  38,\n",
       "        39,  40,  41,  42,  43,  44,  45,  46,  47,  48,  49,  50,  51,\n",
       "        52,  53,  54,  55,  56,  57,  58,  59,  60,  61,  62,  63,  64,\n",
       "        65,  66,  67,  68,  69,  70,  71,  72,  73,  74,  75,  76,  77,\n",
       "        78,  79,  80,  81,  82,  83,  84,  85,  86,  87,  88,  89,  90,\n",
       "        91,  92,  93,  94,  95,  96,  97,  98,  99, 100, 101, 102, 103,\n",
       "       104, 105, 106, 107, 108, 109, 110, 111, 112, 113, 114, 115, 116,\n",
       "       117, 118, 119, 120, 121, 122, 123, 124, 125, 126, 127, 128, 129,\n",
       "       130, 131, 132, 133, 134, 135, 136, 137, 138, 139, 140, 141, 142, 143])"
      ]
     },
     "execution_count": 204,
     "metadata": {},
     "output_type": "execute_result"
    }
   ],
   "source": [
    "row_headings = data_xls.iloc[0:144, 0:4]\n",
    "row_headings.index.values"
   ]
  },
  {
   "cell_type": "code",
   "execution_count": 206,
   "metadata": {
    "collapsed": true,
    "deletable": true,
    "editable": true
   },
   "outputs": [],
   "source": [
    "ready_for_csv = pd.concat([row_headings, terminated], axis = 1)\n",
    "outfile =\"/Users/marie/Desktop/ready_for_csv.csv\"\n",
    "ready_for_csv.to_csv(outfile, header = False, index = False)"
   ]
  },
  {
   "cell_type": "code",
   "execution_count": null,
   "metadata": {
    "collapsed": true,
    "deletable": true,
    "editable": true
   },
   "outputs": [],
   "source": [
    "__logBase10of2 = 3.010299956639811952137388947244930267681898814621085413104274611e-1\n",
    "import numpy as np\n",
    "\n",
    "def RoundToSigFigs( x, sigfigs ):\n",
    "    \"\"\"\n",
    "    Rounds the value(s) in x to the number of significant figures in sigfigs.\n",
    "    Restrictions:\n",
    "    sigfigs must be an integer type and store a positive value.\n",
    "    x must be a real value or an array like object containing only real values.\n",
    "    \"\"\"\n",
    "    if not ( type(sigfigs) is int or np.issubdtype(sigfigs, np.integer)):\n",
    "        raise TypeError( \"RoundToSigFigs: sigfigs must be an integer.\" )\n",
    "    if not np.all(np.isreal( x )):\n",
    "        raise TypeError( \"RoundToSigFigs: all x must be real.\" )\n",
    "    if sigfigs <= 0:\n",
    "        raise ValueError( \"RoundtoSigFigs: sigfigs must be positive.\" )\n",
    "    mantissas, binaryExponents = np.frexp( x )\n",
    "    decimalExponents = __logBase10of2 * binaryExponents\n",
    "    intParts = np.floor(decimalExponents)\n",
    "    mantissas *= 10.0**(decimalExponents - intParts)\n",
    "    return np.around( mantissas, decimals=sigfigs - 1 ) * 10.0**intParts"
   ]
  },
  {
   "cell_type": "code",
   "execution_count": null,
   "metadata": {
    "collapsed": true,
    "deletable": true,
    "editable": true
   },
   "outputs": [],
   "source": [
    "BLCI_rounded = RoundToSigFigs(BLCI,7)"
   ]
  },
  {
   "cell_type": "code",
   "execution_count": 24,
   "metadata": {
    "collapsed": true,
    "deletable": true,
    "editable": true
   },
   "outputs": [],
   "source": [
    "BLCI_rounded = pd.DataFrame(BLCI_rounded)\n",
    "F2_rounded = pd.DataFrame(F2_rounded)"
   ]
  },
  {
   "cell_type": "code",
   "execution_count": 5,
   "metadata": {
    "collapsed": false,
    "deletable": true,
    "editable": true
   },
   "outputs": [],
   "source": [
    "BLCI_rounded_without0 = BLCI_rounded.replace(0, r'\\s+', regex=True)\n",
    "F2_rounded_without0 = F2_rounded.replace(0, r'\\s+', regex=True)"
   ]
  },
  {
   "cell_type": "code",
   "execution_count": null,
   "metadata": {
    "collapsed": true,
    "deletable": true,
    "editable": true
   },
   "outputs": [],
   "source": [
    "ready_for_csv.to_excel('terminated_v3310b2.xlsx', encoding='utf-8', index=False, header=False)"
   ]
  },
  {
   "cell_type": "markdown",
   "metadata": {
    "deletable": true,
    "editable": true
   },
   "source": [
    "## 2. Steps to build the Ready-for-csv linked files automatically\n",
    "1. Extract first 4 columns from naming.xlsx, tab \"linked-excel\"\n",
    "2. Extract activity names and following 6 rows from naming.xlsx \"linked-excel\" from country1 to country6\n",
    "3. Round Zn, Bn numbers\n",
    "4. Remove zeros from Zn, Bn\n",
    "5. Concatenate frame1, frame2-X, Zn, Bn\n",
    "6. Export to excel\n",
    "\"linked_v3310b1_AU-AT-BE-BR-BG-CA\"  \n",
    "\"linked_v3310b1_CN-CY-CZ-DK-EE-FI\"  \n",
    "\"linked_v3310b1_FR-DE-GR-HU-HR-IN\"  \n",
    "\"linked_v3310b1_ID_IE_IT_JP_LV_LT\"  \n",
    "\"linked_v3310b1_LU-MT-MX-NL-NO-PL\"  \n",
    "\"linked_v3310b1_PT-RO-RU-SK-SI-ZA\"  \n",
    "\"linked_v3310b1_yKR-ES-SE-CH-TR-GB\"  \n",
    "\"linked_v3310b1_zUS-WA-WL-WE-WF-WM\"  "
   ]
  },
  {
   "cell_type": "markdown",
   "metadata": {
    "deletable": true,
    "editable": true
   },
   "source": [
    "Steps to build the Ready-for-csv market files automatically  \n",
    "\"product_markets_v3310\"  \n",
    "\"electricity_markets_v3310\"  \n",
    "\"iLUC_markets_v3310\"  "
   ]
  },
  {
   "cell_type": "raw",
   "metadata": {
    "collapsed": false,
    "deletable": true,
    "editable": true
   },
   "source": [
    "cd /Users/marie/Desktop"
   ]
  },
  {
   "cell_type": "markdown",
   "metadata": {
    "deletable": true,
    "editable": true
   },
   "source": [
    "Read \"MR_HUSE.csv\" as source1 and extract Zn, Bn, norm, Use, BnUse."
   ]
  },
  {
   "cell_type": "code",
   "execution_count": 2,
   "metadata": {
    "collapsed": true,
    "deletable": true,
    "editable": true
   },
   "outputs": [],
   "source": [
    "import pandas as pd\n",
    "import csv\n",
    "\n",
    "source1 = pd.read_csv('MR_HUSE.csv', index_col = None, header = None, low_memory = False)"
   ]
  },
  {
   "cell_type": "code",
   "execution_count": 3,
   "metadata": {
    "collapsed": false,
    "deletable": true,
    "editable": true
   },
   "outputs": [],
   "source": [
    "Zn = source1.iloc[7:2959, 5:2957]\n",
    "Use = source1.iloc[7:2959, 2958:3066]\n",
    "\n",
    "Bn_raw = source1.iloc[2960:2994, 5:2957]\n",
    "Bn_occupation = source1.iloc[2995:3085, 5:2957]\n",
    "Bn_emissions = source1.iloc[3086:3147, 5:2957]\n",
    "\n",
    "frame1 = [Bn_raw, Bn_occupation, Bn_emissions]\n",
    "Bn = pd.concat(frame1)\n",
    "\n",
    "BnUse_raw = source1.iloc[2960:2994, 2958:3066]\n",
    "BnUse_occupation = source1.iloc[2995:3085, 2958:3066]\n",
    "BnUse_emissions = source1.iloc[3086:3147, 2958:3066]\n",
    "\n",
    "frame2 = [Bn_raw, Bn_occupation, Bn_emissions]\n",
    "BnUse = pd.concat(frame2)"
   ]
  },
  {
   "cell_type": "markdown",
   "metadata": {
    "deletable": true,
    "editable": true
   },
   "source": [
    "Create iLUC1 empty frame to account for additional corresponding columns for activities."
   ]
  },
  {
   "cell_type": "code",
   "execution_count": 4,
   "metadata": {
    "collapsed": false,
    "deletable": true,
    "editable": true
   },
   "outputs": [],
   "source": [
    "import numpy as np\n",
    "\n",
    "iLUC = np.empty(shape=(2952,17))\n",
    "np.savetxt(\"iLUC.csv\", iLUC, delimiter=\",\")\n",
    "\n",
    "iLUC1 = pd.read_csv(\"iLUC.csv\", index_col = None, header=None, low_memory = False)"
   ]
  },
  {
   "cell_type": "code",
   "execution_count": 12,
   "metadata": {
    "collapsed": false,
    "deletable": true,
    "editable": true
   },
   "outputs": [],
   "source": [
    "outfile1 =\"/Users/marie/Desktop/Zn_iLUC_USE_pd.csv\"\n",
    "\n",
    "frame3 = [Zn, iLUC1, Use]\n",
    "Zn_iLUC_USE = pd.concat(frame3, axis=1)\n",
    "\n",
    "Zn_iLUC_USE.to_csv(outfile1, header = None)"
   ]
  },
  {
   "cell_type": "markdown",
   "metadata": {
    "deletable": true,
    "editable": true
   },
   "source": [
    "Read iLUC.xlsx as source2 to extract iLUC2 et iLUC3."
   ]
  },
  {
   "cell_type": "code",
   "execution_count": 13,
   "metadata": {
    "collapsed": false,
    "deletable": true,
    "editable": true
   },
   "outputs": [],
   "source": [
    "import pandas as pd\n",
    "\n",
    "source2 = pd.read_excel('iLUC.xlsx', sheetname = 'ZBfa', index_col = None, header = None, convert_float = True)\n",
    "iLUC2 = source2.iloc[7:29, 4:3081]\n",
    "\n",
    "outfile2 =\"/Users/marie/Desktop/iLUC2_pd.csv\"\n",
    "iLUC2.to_csv(outfile2, header = None)"
   ]
  },
  {
   "cell_type": "code",
   "execution_count": 7,
   "metadata": {
    "collapsed": true,
    "deletable": true,
    "editable": true
   },
   "outputs": [],
   "source": [
    "iLUC3 = source2.iloc[29:214, 2956:2973]"
   ]
  },
  {
   "cell_type": "code",
   "execution_count": 14,
   "metadata": {
    "collapsed": true,
    "deletable": true,
    "editable": true
   },
   "outputs": [],
   "source": [
    "outfile3 =\"/Users/marie/Desktop/Bn_iLUC3_BnUse_pd.csv\"\n",
    "\n",
    "frame4 = [Bn, iLUC3, BnUse]\n",
    "Bn_iLUC3_BnUse = pd.concat(frame4, axis=1)\n",
    "\n",
    "Bn_iLUC3_BnUse.to_csv(outfile3, header = None)"
   ]
  },
  {
   "cell_type": "markdown",
   "metadata": {
    "deletable": true,
    "editable": true
   },
   "source": [
    "Concatenate the remaining frames frame3, iLUC3 and frame4 to form the masterfile content."
   ]
  },
  {
   "cell_type": "code",
   "execution_count": 11,
   "metadata": {
    "collapsed": false,
    "deletable": true,
    "editable": true
   },
   "outputs": [
    {
     "ename": "TypeError",
     "evalue": "concat() got an unexpected keyword argument 'index_col'",
     "output_type": "error",
     "traceback": [
      "\u001b[0;31m---------------------------------------------------------------------------\u001b[0m",
      "\u001b[0;31mTypeError\u001b[0m                                 Traceback (most recent call last)",
      "\u001b[0;32m<ipython-input-11-9f0ac9ba481a>\u001b[0m in \u001b[0;36m<module>\u001b[0;34m()\u001b[0m\n\u001b[1;32m      4\u001b[0m \u001b[0;34m\u001b[0m\u001b[0m\n\u001b[1;32m      5\u001b[0m \u001b[0mframe5\u001b[0m \u001b[0;34m=\u001b[0m \u001b[0;34m[\u001b[0m\u001b[0mZn_iLUC_USE\u001b[0m\u001b[0;34m,\u001b[0m \u001b[0miLUC2\u001b[0m\u001b[0;34m,\u001b[0m \u001b[0mBn_iLUC3_BnUse\u001b[0m\u001b[0;34m]\u001b[0m\u001b[0;34m\u001b[0m\u001b[0m\n\u001b[0;32m----> 6\u001b[0;31m \u001b[0mmasterfile\u001b[0m \u001b[0;34m=\u001b[0m \u001b[0mpd\u001b[0m\u001b[0;34m.\u001b[0m\u001b[0mconcat\u001b[0m\u001b[0;34m(\u001b[0m\u001b[0mframe5\u001b[0m\u001b[0;34m,\u001b[0m \u001b[0mindex_col\u001b[0m \u001b[0;34m=\u001b[0m \u001b[0;32mNone\u001b[0m\u001b[0;34m,\u001b[0m \u001b[0maxis\u001b[0m \u001b[0;34m=\u001b[0m \u001b[0;36m0\u001b[0m\u001b[0;34m)\u001b[0m\u001b[0;34m\u001b[0m\u001b[0m\n\u001b[0m\u001b[1;32m      7\u001b[0m \u001b[0;34m\u001b[0m\u001b[0m\n\u001b[1;32m      8\u001b[0m \u001b[0mmasterfile\u001b[0m\u001b[0;34m.\u001b[0m\u001b[0mto_csv\u001b[0m\u001b[0;34m(\u001b[0m\u001b[0moutfile\u001b[0m\u001b[0;34m,\u001b[0m \u001b[0mheader\u001b[0m \u001b[0;34m=\u001b[0m \u001b[0;32mNone\u001b[0m\u001b[0;34m)\u001b[0m\u001b[0;34m\u001b[0m\u001b[0m\n",
      "\u001b[0;31mTypeError\u001b[0m: concat() got an unexpected keyword argument 'index_col'"
     ]
    }
   ],
   "source": [
    "import csv\n",
    "\n",
    "outfile = \"/Users/marie/Desktop/masterfile.csv\"\n",
    "\n",
    "frame5 = [Zn_iLUC_USE, iLUC2, Bn_iLUC3_BnUse]\n",
    "masterfile = pd.concat(frame5)\n",
    "\n",
    "masterfile.to_csv(outfile, header = None)"
   ]
  },
  {
   "cell_type": "markdown",
   "metadata": {
    "deletable": true,
    "editable": true
   },
   "source": [
    "Add norm vector"
   ]
  },
  {
   "cell_type": "code",
   "execution_count": null,
   "metadata": {
    "collapsed": true,
    "deletable": true,
    "editable": true
   },
   "outputs": [],
   "source": [
    "norm1 = source1.iloc[1:2, 5:2957]\n",
    "norm2 = source2.iloc[2:3, 2956:3081]"
   ]
  }
 ],
 "metadata": {
  "kernelspec": {
   "display_name": "Python 3",
   "language": "python",
   "name": "python3"
  },
  "language_info": {
   "codemirror_mode": {
    "name": "ipython",
    "version": 3
   },
   "file_extension": ".py",
   "mimetype": "text/x-python",
   "name": "python",
   "nbconvert_exporter": "python",
   "pygments_lexer": "ipython3",
   "version": "3.6.0"
  }
 },
 "nbformat": 4,
 "nbformat_minor": 0
}
