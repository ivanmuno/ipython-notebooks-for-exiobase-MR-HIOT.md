{
 "cells": [
  {
   "cell_type": "markdown",
   "metadata": {
    "deletable": true,
    "editable": true
   },
   "source": [
    "# Make semi-linked Exiobase v3313b1 in Ready_for_CSVs"
   ]
  },
  {
   "cell_type": "markdown",
   "metadata": {
    "deletable": true,
    "editable": true
   },
   "source": [
    "These are all the Excel files we want to make:\n",
    "- terminated_v3313b1.xlsx\n",
    "- linked_v3313b1_AU-AT-BE-BR-BG-CA.xlsx\n",
    "- linked_v3313b1_CN-CY-CZ-DK-EE-FI.xlsx\n",
    "- linked_v3313b1_FR-DE-GR-HU-HR-IN.xlsx\n",
    "- linked_v3313b1_ID_IE_IT_JP_LV_LT.xlsx\n",
    "- linked_v3313b1_LU-MT-MX-NL-NO-PL.xlsx\n",
    "- linked_v3313b1_PT-RO-RU-SK-SI-ZA.xlsx\n",
    "- linked_v3313b1_yKR-ES-SE-CH-TR-GB.xlsx\n",
    "- linked_v3313b1_zUS-WA-WL-WE-WF-WM.xlsx\n",
    "- linked_v3313b1__FD.xlsx\n",
    "- product_markets_v3313b1.xlsx\n",
    "- reducedlinked_v3313b1.xlsx"
   ]
  },
  {
   "cell_type": "markdown",
   "metadata": {
    "deletable": true,
    "editable": true
   },
   "source": [
    "=> Remove 0s from the files (sparse matrices)  \n",
    "=> Read names from Dropbox directly  \n",
    "=> Upload files on Dropbox directly  \n",
    "=> Add extra step for market activities  \n",
    "=> Add extra step to convert Ready_for_CSVs to CSVs_for_SP_import  "
   ]
  },
  {
   "cell_type": "code",
   "execution_count": 1,
   "metadata": {
    "collapsed": false,
    "deletable": true,
    "editable": true
   },
   "outputs": [
    {
     "name": "stdout",
     "output_type": "stream",
     "text": [
      "/Users/marie/Desktop/v3313b1/rounded\n"
     ]
    }
   ],
   "source": [
    "cd /Users/marie/Desktop/v3313b1/rounded"
   ]
  },
  {
   "cell_type": "markdown",
   "metadata": {
    "collapsed": true,
    "deletable": true,
    "editable": true
   },
   "source": [
    "# 1. Terminated (background) file"
   ]
  },
  {
   "cell_type": "code",
   "execution_count": 2,
   "metadata": {
    "collapsed": false,
    "deletable": true,
    "editable": true
   },
   "outputs": [],
   "source": [
    "## Extract terminated activity names\n",
    "import pandas as pd\n",
    "import csv\n",
    "terminated_xl = pd.read_excel('/Users/marie/Documents/Dropbox/2.-0 LCA consultants ApS/Exiobase/_b Next version/EXIOBASE_v3_3_13/SimaPro/v3313b1/naming_v3313b1.xlsx', 'terminated-xl', index_col=None, header = None, encoding='utf-8')\n",
    "terminated_column_headings = terminated_xl.iloc[0:7, 4:8165]\n",
    "terminated_column_headings = terminated_column_headings.reset_index(drop = True)\n",
    "terminated_column_headings.columns = [i for i in range(terminated_column_headings.shape[1])]"
   ]
  },
  {
   "cell_type": "code",
   "execution_count": 3,
   "metadata": {
    "collapsed": false,
    "deletable": true,
    "editable": true
   },
   "outputs": [],
   "source": [
    "## Extract extensions for terminated activities\n",
    "terminated_row_headings = terminated_xl.iloc[0:104, 0:4]"
   ]
  },
  {
   "cell_type": "code",
   "execution_count": 4,
   "metadata": {
    "collapsed": true,
    "deletable": true,
    "editable": true
   },
   "outputs": [],
   "source": [
    "## Read terminated rounded values\n",
    "import pandas as pd\n",
    "BLCI_rounded = pd.read_csv(\"BLCI_rounded.csv\", header = None, low_memory=False)\n",
    "F2_rounded = pd.read_csv(\"F2_rounded.csv\", header = None, low_memory=False)"
   ]
  },
  {
   "cell_type": "code",
   "execution_count": 5,
   "metadata": {
    "collapsed": true,
    "deletable": true,
    "editable": true
   },
   "outputs": [],
   "source": [
    "## Concatenate all terminated activity values\n",
    "terminated_values = pd.concat([BLCI_rounded,F2_rounded], axis = 1)\n",
    "terminated_values = terminated_values.reset_index(drop = True)\n",
    "terminated_values.columns = [i for i in range(terminated_values.shape[1])]"
   ]
  },
  {
   "cell_type": "code",
   "execution_count": 6,
   "metadata": {
    "collapsed": false,
    "deletable": true,
    "editable": true
   },
   "outputs": [],
   "source": [
    "## Export terminated Ready-for-CSV to excel\n",
    "terminated = pd.concat([terminated_column_headings, terminated_values])\n",
    "terminated = terminated.reset_index(drop = True)\n",
    "step1 = pd.concat([terminated_row_headings, terminated], axis = 1)\n",
    "step1 = step1.replace(0, \"\", regex=True)\n",
    "outfile1 = \"/Users/marie/Documents/Dropbox/2.-0 LCA consultants ApS/Exiobase/_b Next version/EXIOBASE_v3_3_13/SimaPro/v3313b1/semi-linked/terminated_v3313b1.xlsx\"\n",
    "step1.to_excel(outfile1, encoding='utf-8', index=False, header=False)"
   ]
  },
  {
   "cell_type": "markdown",
   "metadata": {
    "deletable": true,
    "editable": true
   },
   "source": [
    "# 2. General excel work for semi-linked activities"
   ]
  },
  {
   "cell_type": "code",
   "execution_count": 7,
   "metadata": {
    "collapsed": false,
    "deletable": true,
    "editable": true
   },
   "outputs": [
    {
     "data": {
      "text/plain": [
       "array([   0,    1,    2, ..., 8157, 8158, 8159])"
      ]
     },
     "execution_count": 7,
     "metadata": {},
     "output_type": "execute_result"
    }
   ],
   "source": [
    "## Extract semi-linked activity names\n",
    "import pandas as pd\n",
    "import csv\n",
    "linked_xl = pd.read_excel('/Users/marie/Documents/Dropbox/2.-0 LCA consultants ApS/Exiobase/_b Next version/EXIOBASE_v3_3_13/SimaPro/v3313b1/naming_v3313b1.xlsx', 'linked-xl', index_col=None, header = None, encoding='utf-8')\n",
    "column_headings = linked_xl.iloc[0:7, 4:8165]\n",
    "column_headings = column_headings.reset_index(drop = True)\n",
    "column_headings.columns = [i for i in range(column_headings.shape[1])]\n",
    "column_headings.columns.values"
   ]
  },
  {
   "cell_type": "code",
   "execution_count": 8,
   "metadata": {
    "collapsed": false,
    "deletable": true,
    "editable": true
   },
   "outputs": [
    {
     "data": {
      "text/plain": [
       "array([   0,    1,    2, ..., 7973, 7974, 7975])"
      ]
     },
     "execution_count": 8,
     "metadata": {},
     "output_type": "execute_result"
    }
   ],
   "source": [
    "## Extract inputs to semi-linked activities\n",
    "row_headings = linked_xl.iloc[0:7977, 0:4]\n",
    "row_headings.index.values"
   ]
  },
  {
   "cell_type": "code",
   "execution_count": 9,
   "metadata": {
    "collapsed": false,
    "deletable": true,
    "editable": true
   },
   "outputs": [],
   "source": [
    "## Read rounded values for semi-linked activities\n",
    "import pandas as pd\n",
    "Zn_tonorm_rounded = pd.read_csv(\"Zn_tonorm_rounded.csv\", header = None, low_memory=False)\n",
    "Bn_tonorm_rounded = pd.read_csv(\"Bn_tonorm_rounded.csv\", header = None, low_memory=False)\n",
    "FD_rounded = pd.read_csv(\"FD_rounded.csv\", header = None, low_memory=False)\n",
    "FD_ext_rounded = pd.read_csv(\"FD_ext_rounded.csv\", header = None, low_memory=False)"
   ]
  },
  {
   "cell_type": "code",
   "execution_count": 10,
   "metadata": {
    "collapsed": false,
    "deletable": true,
    "editable": true
   },
   "outputs": [],
   "source": [
    "FD_values = pd.concat([FD_rounded, FD_ext_rounded], axis = 0)\n",
    "FD_values = FD_values.reset_index(drop = True)\n",
    "FD_values.columns = [i for i in range(FD_values.shape[1])]"
   ]
  },
  {
   "cell_type": "code",
   "execution_count": 11,
   "metadata": {
    "collapsed": false,
    "deletable": true,
    "editable": true
   },
   "outputs": [],
   "source": [
    "linked_values = pd.concat([Zn_tonorm_rounded, Bn_tonorm_rounded], axis = 0)\n",
    "linked_values = linked_values.reset_index(drop = True)\n",
    "linked_values.columns = [i for i in range(linked_values.shape[1])]"
   ]
  },
  {
   "cell_type": "code",
   "execution_count": 12,
   "metadata": {
    "collapsed": false,
    "deletable": true,
    "editable": true
   },
   "outputs": [],
   "source": [
    "linked_FD_values = pd.concat([linked_values,FD_values], axis = 1)\n",
    "linked_FD_values = linked_FD_values.reset_index(drop = True)\n",
    "linked_FD_values.columns = [i for i in range(linked_FD_values.shape[1])]"
   ]
  },
  {
   "cell_type": "code",
   "execution_count": 13,
   "metadata": {
    "collapsed": true,
    "deletable": true,
    "editable": true
   },
   "outputs": [],
   "source": [
    "linked = pd.concat([column_headings, linked_FD_values])\n",
    "## outfile2 =\"/Users/marie/Desktop/column_headings.csv\"\n",
    "## linked.to_csv(outfile2, header = False, index = False)"
   ]
  },
  {
   "cell_type": "code",
   "execution_count": 14,
   "metadata": {
    "collapsed": false,
    "deletable": true,
    "editable": true
   },
   "outputs": [
    {
     "data": {
      "text/plain": [
       "array([   0,    1,    2, ..., 7973, 7974, 7975])"
      ]
     },
     "execution_count": 14,
     "metadata": {},
     "output_type": "execute_result"
    }
   ],
   "source": [
    "linked = linked.reset_index(drop = True)\n",
    "linked.index.values"
   ]
  },
  {
   "cell_type": "markdown",
   "metadata": {
    "deletable": true,
    "editable": true
   },
   "source": [
    "# 3. Semi-linked files"
   ]
  },
  {
   "cell_type": "code",
   "execution_count": 15,
   "metadata": {
    "collapsed": false,
    "deletable": true,
    "editable": true
   },
   "outputs": [],
   "source": [
    "AU__CA = linked.iloc[0:7976, 0:984]\n",
    "AU__CA = AU__CA.reset_index(drop = True)\n",
    "step3 = pd.concat([row_headings, AU__CA], axis = 1)\n",
    "step3 = step3.replace(0, \"\", regex=True)\n",
    "writer = pd.ExcelWriter('/Users/marie/Documents/Dropbox/2.-0 LCA consultants ApS/Exiobase/_b Next version/EXIOBASE_v3_3_13/SimaPro/v3313b1/semi-linked/linked_v3313b1_AU-AT-BE-BR-BG-CA.xlsx', engine='xlsxwriter')\n",
    "step3.to_excel(writer, 'Sheet1', encoding='utf-8', index=False, header=False)\n",
    "writer.save()"
   ]
  },
  {
   "cell_type": "code",
   "execution_count": 16,
   "metadata": {
    "collapsed": false,
    "deletable": true,
    "editable": true
   },
   "outputs": [],
   "source": [
    "CN__FI = linked.iloc[0:7976, 984:1968]\n",
    "CN__FI = CN__FI.reset_index(drop = True)\n",
    "step4 = pd.concat([row_headings, CN__FI], axis = 1)\n",
    "step4 = step4.replace(0, \"\", regex=True)\n",
    "writer = pd.ExcelWriter('/Users/marie/Documents/Dropbox/2.-0 LCA consultants ApS/Exiobase/_b Next version/EXIOBASE_v3_3_13/SimaPro/v3313b1/semi-linked/linked_v3313b1_CN-CY-CZ-DK-EE-FI.xlsx', engine='xlsxwriter')\n",
    "step4.to_excel(writer, 'Sheet1', encoding='utf-8', index=False, header=False)\n",
    "writer.save()"
   ]
  },
  {
   "cell_type": "code",
   "execution_count": 17,
   "metadata": {
    "collapsed": true,
    "deletable": true,
    "editable": true
   },
   "outputs": [],
   "source": [
    "FR__IN = linked.iloc[0:7976, 1968:2952]\n",
    "FR__IN = FR__IN.reset_index(drop = True)\n",
    "step5 = pd.concat([row_headings, FR__IN], axis = 1)\n",
    "step5 = step5.replace(0, \"\", regex=True)\n",
    "writer = pd.ExcelWriter('/Users/marie/Documents/Dropbox/2.-0 LCA consultants ApS/Exiobase/_b Next version/EXIOBASE_v3_3_13/SimaPro/v3313b1/semi-linked/linked_v3313b1_FR-DE-GR-HU-HR-IN.xlsx', engine='xlsxwriter')\n",
    "step5.to_excel(writer, 'Sheet1', encoding='utf-8', index=False, header=False)\n",
    "writer.save()"
   ]
  },
  {
   "cell_type": "code",
   "execution_count": 18,
   "metadata": {
    "collapsed": true,
    "deletable": true,
    "editable": true
   },
   "outputs": [],
   "source": [
    "ID__LT = linked.iloc[0:7976, 2952:3936]\n",
    "ID__LT = ID__LT.reset_index(drop = True)\n",
    "step6 = pd.concat([row_headings, ID__LT], axis = 1)\n",
    "step6 = step6.replace(0, \"\", regex=True)\n",
    "writer = pd.ExcelWriter('/Users/marie/Documents/Dropbox/2.-0 LCA consultants ApS/Exiobase/_b Next version/EXIOBASE_v3_3_13/SimaPro/v3313b1/semi-linked/linked_v3313b1_ID_IE_IT_JP_LV_LT.xlsx', engine='xlsxwriter')\n",
    "step6.to_excel(writer, 'Sheet1', encoding='utf-8', index=False, header=False)\n",
    "writer.save()"
   ]
  },
  {
   "cell_type": "code",
   "execution_count": 19,
   "metadata": {
    "collapsed": true,
    "deletable": true,
    "editable": true
   },
   "outputs": [],
   "source": [
    "LU__PL = linked.iloc[0:7976, 3936:4920]\n",
    "LU__PL = LU__PL.reset_index(drop = True)\n",
    "step7 = pd.concat([row_headings, LU__PL], axis = 1)\n",
    "step7 = step7.replace(0, \"\", regex=True)\n",
    "writer = pd.ExcelWriter('/Users/marie/Documents/Dropbox/2.-0 LCA consultants ApS/Exiobase/_b Next version/EXIOBASE_v3_3_13/SimaPro/v3313b1/semi-linked/linked_v3313b1_LU-MT-MX-NL-NO-PL.xlsx', engine='xlsxwriter')\n",
    "step7.to_excel(writer, 'Sheet1', encoding='utf-8', index=False, header=False)\n",
    "writer.save()"
   ]
  },
  {
   "cell_type": "code",
   "execution_count": 21,
   "metadata": {
    "collapsed": false,
    "deletable": true,
    "editable": true
   },
   "outputs": [],
   "source": [
    "PT__ZA = linked.iloc[0:7976, 4920:5904]\n",
    "PT__ZA = PT__ZA.reset_index(drop = True)\n",
    "step8 = pd.concat([row_headings, PT__ZA], axis = 1)\n",
    "step8 = step8.replace(0, \"\", regex=True)\n",
    "outfile8 =\"/Users/marie/Documents/Dropbox/2.-0 LCA consultants ApS/Exiobase/_b Next version/EXIOBASE_v3_3_13/SimaPro/v3313b1/semi-linked/linked_v3313b1_PT-RO-RU-SK-SI-ZA.xlsx\"\n",
    "step8.to_excel(outfile8, encoding='utf-8', index=False, header=False)"
   ]
  },
  {
   "cell_type": "code",
   "execution_count": 22,
   "metadata": {
    "collapsed": false,
    "deletable": true,
    "editable": true
   },
   "outputs": [],
   "source": [
    "KR__GB = linked.iloc[0:7976, 5904:6888]\n",
    "KR__GB = KR__GB.reset_index(drop = True)\n",
    "step9 = pd.concat([row_headings, KR__GB], axis = 1)\n",
    "step9 = step9.replace(0, \"\", regex=True)\n",
    "outfile9 =\"/Users/marie/Documents/Dropbox/2.-0 LCA consultants ApS/Exiobase/_b Next version/EXIOBASE_v3_3_13/SimaPro/v3313b1/semi-linked/linked_v3313b1_yKR-ES-SE-CH-TR-GB.xlsx\"\n",
    "step9.to_excel(outfile9, encoding='utf-8', index=False, header=False)"
   ]
  },
  {
   "cell_type": "code",
   "execution_count": 23,
   "metadata": {
    "collapsed": true,
    "deletable": true,
    "editable": true
   },
   "outputs": [],
   "source": [
    "US__WM = linked.iloc[0:7976, 6888:7872]\n",
    "US__WM = US__WM.reset_index(drop = True)\n",
    "step10 = pd.concat([row_headings, US__WM], axis = 1)\n",
    "step10 = step10.replace(0, \"\", regex=True)\n",
    "outfile10 =\"/Users/marie/Documents/Dropbox/2.-0 LCA consultants ApS/Exiobase/_b Next version/EXIOBASE_v3_3_13/SimaPro/v3313b1/semi-linked/linked_v3313b1_zUS-WA-WL-WE-WF-WM.xlsx\"\n",
    "step10.to_excel(outfile10, encoding='utf-8', index=False, header=False)"
   ]
  },
  {
   "cell_type": "code",
   "execution_count": 24,
   "metadata": {
    "collapsed": true,
    "deletable": true,
    "editable": true
   },
   "outputs": [],
   "source": [
    "## Not sure we need to have the terminated final Use activities\n",
    "FD = linked.iloc[0:7976, 7872:8160]\n",
    "FD = FD.reset_index(drop = True)\n",
    "step11 = pd.concat([row_headings, FD], axis = 1)\n",
    "step11 = step11.replace(0, \"\", regex=True)\n",
    "outfile11 =\"/Users/marie/Documents/Dropbox/2.-0 LCA consultants ApS/Exiobase/_b Next version/EXIOBASE_v3_3_13/SimaPro/v3313b1/semi-linked/linked_v3313b1_FD.xlsx\"\n",
    "step11.to_excel(outfile11, encoding='utf-8', index=False, header=False)"
   ]
  },
  {
   "cell_type": "markdown",
   "metadata": {
    "deletable": true,
    "editable": true
   },
   "source": [
    "# 4. Market Activities"
   ]
  },
  {
   "cell_type": "code",
   "execution_count": 25,
   "metadata": {
    "collapsed": false,
    "deletable": true,
    "editable": true
   },
   "outputs": [
    {
     "data": {
      "text/plain": [
       "array([   0,    1,    2, ..., 7876, 7877, 7878])"
      ]
     },
     "execution_count": 25,
     "metadata": {},
     "output_type": "execute_result"
    }
   ],
   "source": [
    "## Extract market activity names\n",
    "import pandas as pd\n",
    "import csv\n",
    "market_xl = pd.read_excel('/Users/marie/Documents/Dropbox/2.-0 LCA consultants ApS/Exiobase/_b Next version/EXIOBASE_v3_3_13/SimaPro/v3313b1/naming_v3313b1.xlsx', 'prod-markets-xl', index_col=None, header = None, encoding='utf-8')\n",
    "market_column_headings = market_xl.iloc[0:7, 4:7877]\n",
    "market_column_headings = market_column_headings.reset_index(drop = True)\n",
    "market_column_headings.columns = [i for i in range(market_column_headings.shape[1])]\n",
    "market_column_headings.columns.values\n",
    "\n",
    "## Extract inputs to market activities\n",
    "market_row_headings = market_xl.iloc[0:7879, 0:4]\n",
    "market_row_headings.index.values"
   ]
  },
  {
   "cell_type": "code",
   "execution_count": 30,
   "metadata": {
    "collapsed": false,
    "deletable": true,
    "editable": true
   },
   "outputs": [],
   "source": [
    "market_values_xl = pd.read_excel('/Users/marie/Desktop/v3313b1/MR_HIOT_2011_v3.3.13_marketsXacts_matrix_norm.xlsx', 'market_activity_norm', index_col=None, header = None, encoding='utf-8')\n",
    "market_values = market_values_xl.iloc[7:7351, 4:7876]\n",
    "market_values = market_values.reset_index(drop = True)\n",
    "market_values.columns = [i for i in range(market_values.shape[1])]\n",
    "outfile4 =\"/Users/marie/Desktop/market_values.csv\"\n",
    "market_values.to_csv(outfile4, header = False, index = False)"
   ]
  },
  {
   "cell_type": "code",
   "execution_count": 28,
   "metadata": {
    "collapsed": true,
    "deletable": true,
    "editable": true
   },
   "outputs": [],
   "source": [
    "## Export markets Ready-for-CSV to excel\n",
    "markets = pd.concat([market_column_headings, market_values])\n",
    "markets = markets.reset_index(drop = True)\n",
    "step1 = pd.concat([market_row_headings, markets], axis = 1)\n",
    "step1 = step1.replace(0, \"\", regex=True)\n",
    "outfile1 = \"/Users/marie/Documents/Dropbox/2.-0 LCA consultants ApS/Exiobase/_b Next version/EXIOBASE_v3_3_13/SimaPro/v3313b1/semi-linked/markets_v3313b1.xlsx\"\n",
    "step1.to_excel(outfile1, encoding='utf-8', index=False, header=False)"
   ]
  },
  {
   "cell_type": "markdown",
   "metadata": {
    "collapsed": true,
    "deletable": true,
    "editable": true
   },
   "source": [
    "## 5. Producing activities with inputs from national product markets (only 164 inputs)"
   ]
  },
  {
   "cell_type": "code",
   "execution_count": 1,
   "metadata": {
    "collapsed": true,
    "deletable": true,
    "editable": true
   },
   "outputs": [],
   "source": [
    "## Extract reduced linked activity names\n",
    "import pandas as pd\n",
    "import csv\n",
    "reducedlinked_names_xl = pd.read_excel('/Users/marie/Documents/Dropbox/2.-0 LCA consultants ApS/Exiobase/_b Next version/EXIOBASE_v3_3_13/SimaPro/v3313b1/naming_v3313b1.xlsx', 'reducedlinked-xl', index_col=None, header = None, encoding='utf-8')\n",
    "reducedlinked_column_headings = reducedlinked_names_xl.iloc[0:7, 4:8165]\n",
    "reducedlinked_column_headings = reducedlinked_column_headings.reset_index(drop = True)\n",
    "reducedlinked_column_headings.columns = [i for i in range(reducedlinked_column_headings.shape[1])]"
   ]
  },
  {
   "cell_type": "code",
   "execution_count": 2,
   "metadata": {
    "collapsed": false,
    "deletable": true,
    "editable": true
   },
   "outputs": [
    {
     "data": {
      "text/plain": [
       "array([   0,    1,    2, ..., 7973, 7974, 7975])"
      ]
     },
     "execution_count": 2,
     "metadata": {},
     "output_type": "execute_result"
    }
   ],
   "source": [
    "## Extract inputs and extensions names for reduced linked activities\n",
    "reducedlinked_row_headings = reducedlinked_names_xl.iloc[0:7449, 0:4]\n",
    "reducedlinked_row_headings.index.values"
   ]
  },
  {
   "cell_type": "code",
   "execution_count": 3,
   "metadata": {
    "collapsed": true,
    "deletable": true,
    "editable": true
   },
   "outputs": [],
   "source": [
    "## Read input market values for reduced semi-linked activities\n",
    "import pandas as pd\n",
    "import csv\n",
    "reducedlinked_xl = pd.read_excel('/Users/marie/Documents/Dropbox/2.-0 LCA consultants ApS/Exiobase/_b Next version/EXIOBASE_v3_3_13/Results/2011/markets/MR_HIOT_2011_v3.3.13_marketsXacts_matrix.xlsx', 'market_activity', index_col=None, header = None, encoding='utf-8')\n",
    "reducedlinked_values = reducedlinked_xl.iloc[7:7352, 4:7878]\n",
    "reducedlinked_values = reducedlinked_values.reset_index(drop = True)\n",
    "reducedlinked_values.columns = [i for i in range(reducedlinked_values.shape[1])]"
   ]
  },
  {
   "cell_type": "code",
   "execution_count": 5,
   "metadata": {
    "collapsed": false,
    "deletable": true,
    "editable": true
   },
   "outputs": [
    {
     "name": "stdout",
     "output_type": "stream",
     "text": [
      "/Users/marie/Desktop/v3313b1/rounded\n"
     ]
    }
   ],
   "source": [
    "cd /Users/marie/Desktop/v3313b1/rounded"
   ]
  },
  {
   "cell_type": "code",
   "execution_count": 6,
   "metadata": {
    "collapsed": false,
    "deletable": true,
    "editable": true
   },
   "outputs": [],
   "source": [
    "## Read extension values for reduced semi-linked activities\n",
    "import pandas as pd\n",
    "Bn_tonorm_rounded = pd.read_csv(\"Bn_tonorm_rounded.csv\", header = None, low_memory=False)"
   ]
  },
  {
   "cell_type": "code",
   "execution_count": 7,
   "metadata": {
    "collapsed": true,
    "deletable": true,
    "editable": true
   },
   "outputs": [],
   "source": [
    "## Concatenate reduced linked activities values with Emissions\n",
    "reducedlinked_values = pd.concat([reducedlinked_values, Bn_tonorm_rounded], axis = 0)\n",
    "reducedlinked_values = reducedlinked_values.reset_index(drop = True)\n",
    "reducedlinked_values.columns = [i for i in range(reducedlinked_values.shape[1])]"
   ]
  },
  {
   "cell_type": "code",
   "execution_count": 9,
   "metadata": {
    "collapsed": false,
    "deletable": true,
    "editable": true
   },
   "outputs": [],
   "source": [
    "## Concatenate values with column headings\n",
    "reducedlinked = pd.concat([reducedlinked_column_headings, reducedlinked_values])\n",
    "reducedlinked = reducedlinked.reset_index(drop = True)\n",
    "step1 = pd.concat([reducedlinked_row_headings, reducedlinked], axis = 1)\n",
    "step1 = step1.replace(0, \"\", regex=True)\n",
    "## Export reduced linked Ready-for-CSV to excel\n",
    "outfile1 = \"/Users/marie/Documents/Dropbox/2.-0 LCA consultants ApS/Exiobase/_b Next version/EXIOBASE_v3_3_13/SimaPro/v3313b1/semi-linked/reducedlinked_v3313b1.xlsx\"\n",
    "step1.to_excel(outfile1, encoding='utf-8', index=False, header=False)"
   ]
  },
  {
   "cell_type": "code",
   "execution_count": null,
   "metadata": {
    "collapsed": true,
    "deletable": true,
    "editable": true
   },
   "outputs": [],
   "source": []
  }
 ],
 "metadata": {
  "kernelspec": {
   "display_name": "Python 3",
   "language": "python",
   "name": "python3"
  },
  "language_info": {
   "codemirror_mode": {
    "name": "ipython",
    "version": 3
   },
   "file_extension": ".py",
   "mimetype": "text/x-python",
   "name": "python",
   "nbconvert_exporter": "python",
   "pygments_lexer": "ipython3",
   "version": "3.6.0"
  }
 },
 "nbformat": 4,
 "nbformat_minor": 2
}
