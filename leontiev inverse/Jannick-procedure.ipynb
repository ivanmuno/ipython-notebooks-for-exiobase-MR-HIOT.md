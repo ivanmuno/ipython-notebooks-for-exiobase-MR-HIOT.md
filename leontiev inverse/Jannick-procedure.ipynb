{
 "cells": [
  {
   "cell_type": "markdown",
   "metadata": {
    "deletable": true,
    "editable": true
   },
   "source": [
    "# To Calculate terminated results with Python\n",
    "\n",
    "File with Exiobase:\n",
    "-          Folder: C:\\Users\\AAU\\Documents\\MATLAB\n",
    "-          File: master-file-Exiobase-v3.xlsx\n",
    "\n",
    "Zn = Coefficient transaction matrix\n",
    "-          Sheet: Zn\n",
    "-          Dim: 2969x2969 of which last 17 is iLUC model.\n",
    "\n",
    "Bn = Normalised table with externalities (not final use activities)\n",
    "-          Sheet: Bn\n",
    "-          Dim: 190x2969\n",
    "\n",
    "Calculating database with activities with system processes for SimaPro:\n",
    "\n",
    "Zn=xlsread('master-file-Exiobase-v3.xlsx','Zn')\n",
    "\n",
    "Bn=xlsread('master-file-Exiobase-v3.xlsx','Bn')\n",
    "\n",
    "I=eye(2969)\n",
    "\n",
    "An=(I-Zn)\n",
    "\n",
    "S=inv(An)\n",
    "\n",
    "BLCI=Bn*S\n",
    "\n",
    "xlswrite('BLCI.xlsx',BLCI)"
   ]
  },
  {
   "cell_type": "code",
   "execution_count": 1,
   "metadata": {
    "collapsed": false,
    "deletable": true,
    "editable": true
   },
   "outputs": [],
   "source": [
    "%matplotlib inline\n",
    "import sympy as sympy\n",
    "import numpy as np\n",
    "import matplotlib.pyplot as plt\n",
    "import seaborn as sbn\n",
    "from scipy import *"
   ]
  },
  {
   "cell_type": "markdown",
   "metadata": {
    "deletable": true,
    "editable": true
   },
   "source": [
    "This code sets up Ipython Notebook environments (lines beginning with `%`), and loads several libraries and functions.  The core scientific stack in python consists of a number of free libraries.  The ones I have loaded above include:\n",
    "\n",
    "1. sympy: provides for symbolic computation (solving algebra problems)\n",
    "2. numpy: provides for linear algebra computations\n",
    "3. matplotlib.pyplot: provides for the ability to graph functions and draw figures\n",
    "4. scipy: scientific python provides a plethora of capabilities\n",
    "5. seaborn: makes matplotlib figures even prettier (another library like this is called bokeh).  This is entirely optional and is purely for eye candy.\n",
    "6. openpyxl is a Python library to read/write Excel 2010 xlsx/xlsm files"
   ]
  },
  {
   "cell_type": "code",
   "execution_count": 3,
   "metadata": {
    "collapsed": false,
    "deletable": true,
    "editable": true
   },
   "outputs": [
    {
     "name": "stdout",
     "output_type": "stream",
     "text": [
      "/Users/marie/Desktop/ZnBn\n"
     ]
    }
   ],
   "source": [
    "cd /Users/marie/Desktop/ZnBn"
   ]
  },
  {
   "cell_type": "code",
   "execution_count": 5,
   "metadata": {
    "collapsed": false,
    "deletable": true,
    "editable": true
   },
   "outputs": [],
   "source": [
    "import csv\n",
    "import numpy as np\n",
    "with open(\"1-matrix.csv\",'r') as dest_f:\n",
    "    data_iter = csv.reader(dest_f, \n",
    "                           delimiter = ',', \n",
    "                           quotechar = '\"')\n",
    "    data = [data for data in data_iter]\n",
    "Zn_tonorm = np.array(list(data)).astype('float')"
   ]
  },
  {
   "cell_type": "code",
   "execution_count": 7,
   "metadata": {
    "collapsed": false,
    "deletable": true,
    "editable": true
   },
   "outputs": [],
   "source": [
    "import csv\n",
    "import numpy as np\n",
    "with open('norm.csv','r') as dest_f:\n",
    "    data_iter = csv.reader(dest_f, \n",
    "                           delimiter = ',', \n",
    "                           quotechar = '\"')\n",
    "    data = [data for data in data_iter]\n",
    "nor = np.asarray(data, dtype='float')"
   ]
  },
  {
   "cell_type": "code",
   "execution_count": 8,
   "metadata": {
    "collapsed": true,
    "deletable": true,
    "editable": true
   },
   "outputs": [],
   "source": [
    "identity=np.matrix(np.identity(2952), copy=False)"
   ]
  },
  {
   "cell_type": "code",
   "execution_count": 9,
   "metadata": {
    "collapsed": false,
    "deletable": true,
    "editable": true
   },
   "outputs": [
    {
     "ename": "NameError",
     "evalue": "name 'Bn_tonorm' is not defined",
     "output_type": "error",
     "traceback": [
      "\u001b[0;31m---------------------------------------------------------------------------\u001b[0m",
      "\u001b[0;31mNameError\u001b[0m                                 Traceback (most recent call last)",
      "\u001b[0;32m<ipython-input-9-aeef661b2085>\u001b[0m in \u001b[0;36m<module>\u001b[0;34m()\u001b[0m\n\u001b[0;32m----> 1\u001b[0;31m \u001b[0mBn\u001b[0m \u001b[0;34m=\u001b[0m \u001b[0mBn_tonorm\u001b[0m\u001b[0;34m.\u001b[0m\u001b[0mdot\u001b[0m\u001b[0;34m(\u001b[0m\u001b[0mnor\u001b[0m\u001b[0;34m)\u001b[0m\u001b[0;34m\u001b[0m\u001b[0m\n\u001b[0m",
      "\u001b[0;31mNameError\u001b[0m: name 'Bn_tonorm' is not defined"
     ]
    }
   ],
   "source": [
    "Bn = Bn_tonorm.dot(nor)"
   ]
  },
  {
   "cell_type": "code",
   "execution_count": 10,
   "metadata": {
    "collapsed": true,
    "deletable": true,
    "editable": true
   },
   "outputs": [],
   "source": [
    "Zn = Zn_tonorm.dot(nor)"
   ]
  },
  {
   "cell_type": "code",
   "execution_count": 11,
   "metadata": {
    "collapsed": false,
    "deletable": true,
    "editable": true,
    "scrolled": true
   },
   "outputs": [],
   "source": [
    "iresult=identity-Zn"
   ]
  },
  {
   "cell_type": "code",
   "execution_count": 12,
   "metadata": {
    "collapsed": false,
    "deletable": true,
    "editable": true
   },
   "outputs": [
    {
     "ename": "LinAlgError",
     "evalue": "Singular matrix",
     "output_type": "error",
     "traceback": [
      "\u001b[0;31m---------------------------------------------------------------------------\u001b[0m",
      "\u001b[0;31mLinAlgError\u001b[0m                               Traceback (most recent call last)",
      "\u001b[0;32m<ipython-input-12-184c05c95590>\u001b[0m in \u001b[0;36m<module>\u001b[0;34m()\u001b[0m\n\u001b[1;32m      1\u001b[0m \u001b[0;31m# note, we need a square matrix (# rows = # cols), use C:\u001b[0m\u001b[0;34m\u001b[0m\u001b[0;34m\u001b[0m\u001b[0m\n\u001b[0;32m----> 2\u001b[0;31m \u001b[0mresult_inverse\u001b[0m \u001b[0;34m=\u001b[0m \u001b[0mnp\u001b[0m\u001b[0;34m.\u001b[0m\u001b[0mlinalg\u001b[0m\u001b[0;34m.\u001b[0m\u001b[0minv\u001b[0m\u001b[0;34m(\u001b[0m\u001b[0miresult\u001b[0m\u001b[0;34m)\u001b[0m\u001b[0;34m\u001b[0m\u001b[0m\n\u001b[0m\u001b[1;32m      3\u001b[0m \u001b[0mprint\u001b[0m\u001b[0;34m(\u001b[0m\u001b[0mresult_inverse\u001b[0m\u001b[0;34m)\u001b[0m\u001b[0;34m\u001b[0m\u001b[0m\n",
      "\u001b[0;32m//Users/marie/bw2-python/envs/bw2/lib/python3.4/site-packages/numpy/linalg/linalg.py\u001b[0m in \u001b[0;36minv\u001b[0;34m(a)\u001b[0m\n\u001b[1;32m    524\u001b[0m     \u001b[0msignature\u001b[0m \u001b[0;34m=\u001b[0m \u001b[0;34m'D->D'\u001b[0m \u001b[0;32mif\u001b[0m \u001b[0misComplexType\u001b[0m\u001b[0;34m(\u001b[0m\u001b[0mt\u001b[0m\u001b[0;34m)\u001b[0m \u001b[0;32melse\u001b[0m \u001b[0;34m'd->d'\u001b[0m\u001b[0;34m\u001b[0m\u001b[0m\n\u001b[1;32m    525\u001b[0m     \u001b[0mextobj\u001b[0m \u001b[0;34m=\u001b[0m \u001b[0mget_linalg_error_extobj\u001b[0m\u001b[0;34m(\u001b[0m\u001b[0m_raise_linalgerror_singular\u001b[0m\u001b[0;34m)\u001b[0m\u001b[0;34m\u001b[0m\u001b[0m\n\u001b[0;32m--> 526\u001b[0;31m     \u001b[0mainv\u001b[0m \u001b[0;34m=\u001b[0m \u001b[0m_umath_linalg\u001b[0m\u001b[0;34m.\u001b[0m\u001b[0minv\u001b[0m\u001b[0;34m(\u001b[0m\u001b[0ma\u001b[0m\u001b[0;34m,\u001b[0m \u001b[0msignature\u001b[0m\u001b[0;34m=\u001b[0m\u001b[0msignature\u001b[0m\u001b[0;34m,\u001b[0m \u001b[0mextobj\u001b[0m\u001b[0;34m=\u001b[0m\u001b[0mextobj\u001b[0m\u001b[0;34m)\u001b[0m\u001b[0;34m\u001b[0m\u001b[0m\n\u001b[0m\u001b[1;32m    527\u001b[0m     \u001b[0;32mreturn\u001b[0m \u001b[0mwrap\u001b[0m\u001b[0;34m(\u001b[0m\u001b[0mainv\u001b[0m\u001b[0;34m.\u001b[0m\u001b[0mastype\u001b[0m\u001b[0;34m(\u001b[0m\u001b[0mresult_t\u001b[0m\u001b[0;34m,\u001b[0m \u001b[0mcopy\u001b[0m\u001b[0;34m=\u001b[0m\u001b[0;32mFalse\u001b[0m\u001b[0;34m)\u001b[0m\u001b[0;34m)\u001b[0m\u001b[0;34m\u001b[0m\u001b[0m\n\u001b[1;32m    528\u001b[0m \u001b[0;34m\u001b[0m\u001b[0m\n",
      "\u001b[0;32m//Users/marie/bw2-python/envs/bw2/lib/python3.4/site-packages/numpy/linalg/linalg.py\u001b[0m in \u001b[0;36m_raise_linalgerror_singular\u001b[0;34m(err, flag)\u001b[0m\n\u001b[1;32m     88\u001b[0m \u001b[0;34m\u001b[0m\u001b[0m\n\u001b[1;32m     89\u001b[0m \u001b[0;32mdef\u001b[0m \u001b[0m_raise_linalgerror_singular\u001b[0m\u001b[0;34m(\u001b[0m\u001b[0merr\u001b[0m\u001b[0;34m,\u001b[0m \u001b[0mflag\u001b[0m\u001b[0;34m)\u001b[0m\u001b[0;34m:\u001b[0m\u001b[0;34m\u001b[0m\u001b[0m\n\u001b[0;32m---> 90\u001b[0;31m     \u001b[0;32mraise\u001b[0m \u001b[0mLinAlgError\u001b[0m\u001b[0;34m(\u001b[0m\u001b[0;34m\"Singular matrix\"\u001b[0m\u001b[0;34m)\u001b[0m\u001b[0;34m\u001b[0m\u001b[0m\n\u001b[0m\u001b[1;32m     91\u001b[0m \u001b[0;34m\u001b[0m\u001b[0m\n\u001b[1;32m     92\u001b[0m \u001b[0;32mdef\u001b[0m \u001b[0m_raise_linalgerror_nonposdef\u001b[0m\u001b[0;34m(\u001b[0m\u001b[0merr\u001b[0m\u001b[0;34m,\u001b[0m \u001b[0mflag\u001b[0m\u001b[0;34m)\u001b[0m\u001b[0;34m:\u001b[0m\u001b[0;34m\u001b[0m\u001b[0m\n",
      "\u001b[0;31mLinAlgError\u001b[0m: Singular matrix"
     ]
    }
   ],
   "source": [
    "# note, we need a square matrix (# rows = # cols), use C:\n",
    "result_inverse = np.linalg.inv(iresult)\n",
    "print(result_inverse)"
   ]
  },
  {
   "cell_type": "markdown",
   "metadata": {
    "deletable": true,
    "editable": true
   },
   "source": [
    "Check that $C\\times C^{-1} = I$:"
   ]
  },
  {
   "cell_type": "code",
   "execution_count": 7,
   "metadata": {
    "collapsed": false,
    "deletable": true,
    "editable": true
   },
   "outputs": [
    {
     "name": "stdout",
     "output_type": "stream",
     "text": [
      "[[  1.00000000e+00  -2.26041068e-21   2.88479706e-21 ...,   5.05634899e-20\n",
      "    6.33606383e-20   0.00000000e+00]\n",
      " [  6.94429239e-20   1.00000000e+00   2.30770557e-19 ...,   1.23309998e-17\n",
      "    1.54056235e-17   0.00000000e+00]\n",
      " [  6.20368916e-20   5.94380969e-21   1.00000000e+00 ...,  -2.16840434e-19\n",
      "    1.86482774e-17   0.00000000e+00]\n",
      " ..., \n",
      " [  6.61744490e-24  -8.89219158e-24  -3.30872245e-24 ...,   1.00000000e+00\n",
      "   -5.65411433e-17   0.00000000e+00]\n",
      " [ -3.30872245e-24  -5.99705944e-24   1.24077092e-24 ...,  -1.21125711e-19\n",
      "    1.00000000e+00   0.00000000e+00]\n",
      " [  0.00000000e+00   0.00000000e+00   0.00000000e+00 ...,   0.00000000e+00\n",
      "    0.00000000e+00   1.00000000e+00]]\n",
      "Is identical to:\n",
      "[[  1.00000000e+00  -3.90304940e-17  -2.67622457e-17 ...,   5.20982996e-13\n",
      "   -3.96345110e-12   0.00000000e+00]\n",
      " [ -3.53943252e-16   1.00000000e+00  -1.55533283e-16 ...,   8.34239622e-12\n",
      "   -3.24411331e-11   0.00000000e+00]\n",
      " [ -1.98093955e-16  -1.58607394e-16   1.00000000e+00 ...,   3.80962276e-12\n",
      "   -1.93197958e-11   0.00000000e+00]\n",
      " ..., \n",
      " [  2.36604897e-19   5.20377039e-19   2.25338071e-19 ...,   1.00000000e+00\n",
      "    4.09425098e-14   0.00000000e+00]\n",
      " [ -5.49416289e-21  -1.26392112e-20  -5.28374132e-21 ...,   1.13507497e-16\n",
      "    1.00000000e+00   0.00000000e+00]\n",
      " [  0.00000000e+00   0.00000000e+00   0.00000000e+00 ...,   0.00000000e+00\n",
      "    0.00000000e+00   1.00000000e+00]]\n"
     ]
    }
   ],
   "source": [
    "print(iresult.dot(result_inverse))\n",
    "print(\"Is identical to:\")\n",
    "print(result_inverse.dot(iresult))"
   ]
  },
  {
   "cell_type": "code",
   "execution_count": null,
   "metadata": {
    "collapsed": true,
    "deletable": true,
    "editable": true
   },
   "outputs": [],
   "source": [
    "import csv\n",
    "\n",
    "with open('BLCI.csv', 'r') as myfile:\n",
    "    wr = csv.writer(myfile, quoting=csv.QUOTE_ALL)\n",
    "    wr.writerow(mylist)"
   ]
  },
  {
   "cell_type": "markdown",
   "metadata": {
    "deletable": true,
    "editable": true
   },
   "source": [
    "## Contribution analysis of specific process in Matlab: elementary flows\n",
    "\n",
    "This contribution analysis calculates scaling factors related to a specific activity. These scaling factors are then applied to a selected elementary flow. The contribution analysis then shows how much each activity is contribution to the life cycle amount of the flow under consideration.\n",
    "\n",
    "prod_number=1220   % specify the number of the activity to perform contribution analysis on.\n",
    "\n",
    "flow_number=130  % specify the number of the flow (elementary flow) to which you want to see the contribution by different activities.\n",
    "\n",
    "f=I(1:2969,prod_number)\n",
    "\n",
    "b=Bn(flow_number,1:2969)\n",
    "\n",
    "s=inv(I-Zn)*f\n",
    "\n",
    "contribution_b=b*diag(s)\n",
    "\n",
    "xlswrite('contribution_intflow.xlsx',contribution_b,'A3:DJE3')"
   ]
  },
  {
   "cell_type": "code",
   "execution_count": null,
   "metadata": {
    "collapsed": true,
    "deletable": true,
    "editable": true
   },
   "outputs": [],
   "source": []
  }
 ],
 "metadata": {
  "kernelspec": {
   "display_name": "Python 3",
   "language": "python",
   "name": "python3"
  },
  "language_info": {
   "codemirror_mode": {
    "name": "ipython",
    "version": 3
   },
   "file_extension": ".py",
   "mimetype": "text/x-python",
   "name": "python",
   "nbconvert_exporter": "python",
   "pygments_lexer": "ipython3",
   "version": "3.6.0"
  }
 },
 "nbformat": 4,
 "nbformat_minor": 0
}
