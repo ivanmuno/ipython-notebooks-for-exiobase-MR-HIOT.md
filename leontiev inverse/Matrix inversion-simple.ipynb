{
 "cells": [
  {
   "cell_type": "markdown",
   "metadata": {},
   "source": [
    "# Linear Algebra and Python Basics\n",
    "\n",
    "In this chapter, I will be discussing some linear algebra basics that will provide sufficient linear algebra background for effective programming in Python for our purposes.  We will be doing very basic linear algebra that by no means covers the full breadth of this topic.  Why linear algebra?  Linear algebra allows us to express relatively complex linear expressions in a very compact way.\n",
    "\n",
    "Being comfortable with the rules for scalar and matrix addition, subtraction, multiplication, and division (known as inversion) is important for our class.\n",
    "\n",
    "Before we can implement any of these ideas in code, we need to talk a bit about python and how data is stored.\n",
    "\n",
    "## Python Primer\n",
    "\n",
    "There are numerous ways to run python code.  I will show you two and both are easily accessible after installing Anaconda:\n",
    "\n",
    "1. The Spyder integrated development environment.  The major advantages of Spyder is that it provides a graphical way for viewing matrices, vectors, and other objects you want to check as you work on a problem.  It also has the most intuitive way of debugging code.\n",
    "\n",
    "    Spyder looks like this:\n",
    "    ![](http://rlhick.people.wm.edu/site_pics/Spyder_1.png)\n",
    "    Code can be run by clicking the green arrow (runs the entire file) or by blocking a subset and running it.\n",
    "    In Windows or Mac, you can launch the Spyder by looking for the icon in the newly installed Program Folder Anaconda.  \n",
    "    \n",
    "2. The Ipython Notebook (now called Jupyter).  The major advantages of this approach is that you use your web browser for all of your python work and you can mix code, videos, notes, graphics from the web, and mathematical notation to tell the whole story of your python project. In fact, I am using the ipython notebook for writing these notes. \n",
    "    The Ipython Notebook looks like this:\n",
    "    ![](http://rlhick.people.wm.edu/site_pics/Jupyter_1.png)\n",
    "    In Windows or Mac, you can launch the Ipython Notebook by looking in the newly installed Program Folder Anaconda.\n",
    "\n",
    "In my work flow, I usually only use the Ipython Notebook, but for some coding problems where I need access to the easy debugging capabilities of Spyder, I use it.  We will be using the Ipython Notebook interface (web browser) mostly in this class.\n",
    "\n",
    "### Loading libraries\n",
    "\n",
    "The python universe has a huge number of libraries that extend the capabilities of python. Nearly all of these are open source, unlike packages like stata or matlab where some key libraries are proprietary (and can cost lots of money).  In lots of my code, you will see this at the top:"
   ]
  },
  {
   "cell_type": "code",
   "execution_count": 1,
   "metadata": {
    "collapsed": false
   },
   "outputs": [],
   "source": [
    "%matplotlib inline\n",
    "import sympy as sympy\n",
    "import numpy as np\n",
    "import matplotlib.pyplot as plt\n",
    "import seaborn as sbn\n",
    "from scipy import *"
   ]
  },
  {
   "cell_type": "markdown",
   "metadata": {},
   "source": [
    "This code sets up Ipython Notebook environments (lines beginning with `%`), and loads several libraries and functions.  The core scientific stack in python consists of a number of free libraries.  The ones I have loaded above include:\n",
    "\n",
    "1. sympy: provides for symbolic computation (solving algebra problems)\n",
    "2. numpy: provides for linear algebra computations\n",
    "3. matplotlib.pyplot: provides for the ability to graph functions and draw figures\n",
    "4. scipy: scientific python provides a plethora of capabilities\n",
    "5. seaborn: makes matplotlib figures even prettier (another library like this is called bokeh).  This is entirely optional and is purely for eye candy."
   ]
  },
  {
   "cell_type": "markdown",
   "metadata": {},
   "source": [
    "##Matrix Division\n",
    "The term matrix division is actually a misnomer.  To divide in a matrix algebra world we first need to invert the matrix.  It is useful to consider the analog case in a scalar work.  Suppose we want to divide the $f$ by $g$.  We could do this in two different ways:\n",
    "$$\n",
    "\\begin{equation}\n",
    "\t\\frac{f}{g}=f \\times g^{-1}.\n",
    "\\end{equation}\n",
    "$$\n",
    "In a scalar seeting, these are equivalent ways of solving the division problem.  The second one requires two steps: first we invert g and then we multiply f times g.  In a matrix world, we need to think about this second approach.  First we have to invert the matrix g and then we will need to pre or post multiply depending on the exact situation we encounter (this is intended to be vague for now).\n",
    "\n",
    "###Inverting a Matrix\n",
    "\n",
    "As before, consider the square $2 \\times 2$ matrix $A$=$\\bigl( \\begin{smallmatrix} a_{11} & a_{12} \\\\ a_{21} & a_{22}\\end{smallmatrix} \\bigr)$.  Let the inverse of matrix A (denoted as $A^{-1}$) be \n",
    "\n",
    "$$\n",
    "\\begin{equation}\n",
    "\tA^{-1}=\\begin{bmatrix}\n",
    "             a_{11} & a_{12} \\\\\n",
    "\t\t     a_{21} & a_{22} \n",
    "           \\end{bmatrix}^{-1}=\\frac{1}{a_{11}a_{22}-a_{12}a_{21}}\t\\begin{bmatrix}\n",
    "\t\t             a_{22} & -a_{12} \\\\\n",
    "\t\t\t\t     -a_{21} & a_{11} \n",
    "\t\t           \\end{bmatrix}\n",
    "\\end{equation}\n",
    "$$\n",
    "\n",
    "The inverted matrix $A^{-1}$ has a useful property:\n",
    "$$\n",
    "\\begin{equation}\n",
    "\tA \\times A^{-1}=A^{-1} \\times A=I\n",
    "\\end{equation}\n",
    "$$\n",
    "where I, the identity matrix (the matrix equivalent of the scalar value 1), is\n",
    "$$\n",
    "\\begin{equation}\n",
    "\tI_{2 \\times 2}=\\begin{bmatrix}\n",
    "             1 & 0 \\\\\n",
    "\t\t     0 & 1 \n",
    "           \\end{bmatrix}\n",
    "\\end{equation}\n",
    "$$\n",
    "furthermore, $A \\times I = A$ and $I \\times A = A$.\n",
    "\n",
    "An important feature about matrix inversion is that it is undefined if (in the $2 \\times 2$ case), $a_{11}a_{22}-a_{12}a_{21}=0$.  If this relationship is equal to zero the inverse of A does not exist.  If this term is very close to zero, an inverse may exist but $A^{-1}$ may be poorly conditioned meaning it is prone to rounding error and is likely not well identified computationally.  The term $a_{11}a_{22}-a_{12}a_{21}$ is the determinant of matrix A, and for square matrices of size greater than $2 \\times 2$, if equal to zero indicates that you have a problem with your data matrix (columns are linearly dependent on other columns).  The inverse of matrix A exists if A is square and is of full rank (ie. the columns of A are not linear combinations of other columns of A).\n",
    "\n",
    "For more information on this topic, see this\n",
    "http://en.wikipedia.org/wiki/Matrix_inversion, for example, on inverting matrices."
   ]
  },
  {
   "cell_type": "code",
   "execution_count": 2,
   "metadata": {
    "collapsed": false
   },
   "outputs": [
    {
     "name": "stdout",
     "output_type": "stream",
     "text": [
      "/Users/marie/Desktop\n"
     ]
    }
   ],
   "source": [
    "cd /Users/marie/Desktop"
   ]
  },
  {
   "cell_type": "code",
   "execution_count": 3,
   "metadata": {
    "collapsed": false
   },
   "outputs": [],
   "source": [
    "import csv\n",
    "import numpy\n",
    "result=np.array(list(csv.reader(open(\"Workbook1.csv\",\"r\"),delimiter=','))).astype('float')"
   ]
  },
  {
   "cell_type": "code",
   "execution_count": 4,
   "metadata": {
    "collapsed": false
   },
   "outputs": [],
   "source": [
    "identity=numpy.matrix(numpy.identity(2952), copy=False)"
   ]
  },
  {
   "cell_type": "code",
   "execution_count": 5,
   "metadata": {
    "collapsed": false
   },
   "outputs": [],
   "source": [
    "iresult=identity-result"
   ]
  },
  {
   "cell_type": "code",
   "execution_count": 6,
   "metadata": {
    "collapsed": false
   },
   "outputs": [
    {
     "name": "stdout",
     "output_type": "stream",
     "text": [
      "[[  1.00030722e+00   3.96082112e-05   6.46519049e-05 ...,   2.54732755e-03\n",
      "    6.88271215e-03   0.00000000e+00]\n",
      " [  3.17604228e-03   1.00048015e+00   1.15475094e-03 ...,   5.94464010e-02\n",
      "    1.44597937e-01   0.00000000e+00]\n",
      " [  1.67850476e-03   2.61982680e-04   1.00069422e+00 ...,   3.75290714e-02\n",
      "    8.89688100e-02   0.00000000e+00]\n",
      " ..., \n",
      " [  1.00444182e-07   5.46776781e-09   3.68252201e-08 ...,   9.98996608e-01\n",
      "   -1.71584915e-03  -0.00000000e+00]\n",
      " [ -6.06712556e-09  -1.65323615e-09  -2.79102587e-09 ...,   4.77725876e-05\n",
      "    1.00011645e+00  -0.00000000e+00]\n",
      " [  0.00000000e+00   0.00000000e+00   0.00000000e+00 ...,   0.00000000e+00\n",
      "    0.00000000e+00   1.00000000e+00]]\n"
     ]
    }
   ],
   "source": [
    "# note, we need a square matrix (# rows = # cols), use C:\n",
    "result_inverse = np.linalg.inv(iresult)\n",
    "print(result_inverse)"
   ]
  },
  {
   "cell_type": "markdown",
   "metadata": {},
   "source": [
    "Check that $C\\times C^{-1} = I$:"
   ]
  },
  {
   "cell_type": "code",
   "execution_count": 7,
   "metadata": {
    "collapsed": false
   },
   "outputs": [
    {
     "name": "stdout",
     "output_type": "stream",
     "text": [
      "[[  1.00000000e+00  -2.26041068e-21   2.88479706e-21 ...,   5.05634899e-20\n",
      "    6.33606383e-20   0.00000000e+00]\n",
      " [  6.94429239e-20   1.00000000e+00   2.30770557e-19 ...,   1.23309998e-17\n",
      "    1.54056235e-17   0.00000000e+00]\n",
      " [  6.20368916e-20   5.94380969e-21   1.00000000e+00 ...,  -2.16840434e-19\n",
      "    1.86482774e-17   0.00000000e+00]\n",
      " ..., \n",
      " [  6.61744490e-24  -8.89219158e-24  -3.30872245e-24 ...,   1.00000000e+00\n",
      "   -5.65411433e-17   0.00000000e+00]\n",
      " [ -3.30872245e-24  -5.99705944e-24   1.24077092e-24 ...,  -1.21125711e-19\n",
      "    1.00000000e+00   0.00000000e+00]\n",
      " [  0.00000000e+00   0.00000000e+00   0.00000000e+00 ...,   0.00000000e+00\n",
      "    0.00000000e+00   1.00000000e+00]]\n",
      "Is identical to:\n",
      "[[  1.00000000e+00  -3.90304940e-17  -2.67622457e-17 ...,   5.20982996e-13\n",
      "   -3.96345110e-12   0.00000000e+00]\n",
      " [ -3.53943252e-16   1.00000000e+00  -1.55533283e-16 ...,   8.34239622e-12\n",
      "   -3.24411331e-11   0.00000000e+00]\n",
      " [ -1.98093955e-16  -1.58607394e-16   1.00000000e+00 ...,   3.80962276e-12\n",
      "   -1.93197958e-11   0.00000000e+00]\n",
      " ..., \n",
      " [  2.36604897e-19   5.20377039e-19   2.25338071e-19 ...,   1.00000000e+00\n",
      "    4.09425098e-14   0.00000000e+00]\n",
      " [ -5.49416289e-21  -1.26392112e-20  -5.28374132e-21 ...,   1.13507497e-16\n",
      "    1.00000000e+00   0.00000000e+00]\n",
      " [  0.00000000e+00   0.00000000e+00   0.00000000e+00 ...,   0.00000000e+00\n",
      "    0.00000000e+00   1.00000000e+00]]\n"
     ]
    }
   ],
   "source": [
    "print(iresult.dot(result_inverse))\n",
    "print(\"Is identical to:\")\n",
    "print(result_inverse.dot(iresult))"
   ]
  },
  {
   "cell_type": "code",
   "execution_count": null,
   "metadata": {
    "collapsed": true
   },
   "outputs": [],
   "source": [
    "import csv\n",
    "\n",
    "with open('BLCI.csv', 'wb') as myfile:\n",
    "    wr = csv.writer(myfile, quoting=csv.QUOTE_ALL)\n",
    "    wr.writerow(mylist)"
   ]
  }
 ],
 "metadata": {
  "kernelspec": {
   "display_name": "Python 3",
   "language": "python",
   "name": "python3"
  },
  "language_info": {
   "codemirror_mode": {
    "name": "ipython",
    "version": 3
   },
   "file_extension": ".py",
   "mimetype": "text/x-python",
   "name": "python",
   "nbconvert_exporter": "python",
   "pygments_lexer": "ipython3",
   "version": "3.4.3"
  }
 },
 "nbformat": 4,
 "nbformat_minor": 0
}
